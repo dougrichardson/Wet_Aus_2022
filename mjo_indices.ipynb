{
 "cells": [
  {
   "cell_type": "markdown",
   "id": "b9caf05f-fddc-4ce7-9119-323e89059a3a",
   "metadata": {},
   "source": [
    "# Prepare climate modes data"
   ]
  },
  {
   "cell_type": "code",
   "execution_count": null,
   "id": "0eb88290-fc5c-4648-84a0-1b407760d911",
   "metadata": {},
   "outputs": [],
   "source": [
    "from dask_jobqueue import PBSCluster\n",
    "from dask.distributed import Client"
   ]
  },
  {
   "cell_type": "code",
   "execution_count": null,
   "id": "d5767400-1c7a-451a-9a65-5f1e7f6a7a65",
   "metadata": {},
   "outputs": [],
   "source": [
    "# One node on Gadi has 48 cores - try and use up a full node before going to multiple nodes (jobs)\n",
    "\n",
    "walltime = '01:00:00'\n",
    "cores = 4\n",
    "memory = str(4 * cores)\n",
    "memory = memory + 'GB'\n",
    "\n",
    "cluster = PBSCluster(walltime=str(walltime), cores=cores, memory=str(memory),\n",
    "                     job_extra=['-l ncpus='+str(cores),\n",
    "                                '-l mem='+str(memory),\n",
    "                                '-P xv83',\n",
    "                                '-l storage=gdata/xv83+gdata/rt52+scratch/xv83'],\n",
    "                     header_skip=[\"select\"])"
   ]
  },
  {
   "cell_type": "code",
   "execution_count": null,
   "id": "872dfee2-4c58-43ff-b183-8db96ba0d9f6",
   "metadata": {},
   "outputs": [],
   "source": [
    "cluster.scale(jobs=1)\n",
    "client = Client(cluster)"
   ]
  },
  {
   "cell_type": "code",
   "execution_count": null,
   "id": "daee248f-5cc9-4d8e-8d2d-a5477fcb920b",
   "metadata": {},
   "outputs": [],
   "source": [
    "client"
   ]
  },
  {
   "cell_type": "code",
   "execution_count": null,
   "id": "d25b6671-4740-4b09-81d5-cb8102a7fff8",
   "metadata": {},
   "outputs": [],
   "source": [
    "import xarray as xr\n",
    "import numpy as np\n",
    "import pandas as pd\n",
    "\n",
    "import matplotlib\n",
    "import matplotlib.pyplot as plt\n",
    "\n",
    "import cartopy.crs as ccrs\n",
    "import cartopy\n",
    "cartopy.config['pre_existing_data_dir'] = '/g/data/xv83/dr6273/work/data/cartopy-data'\n",
    "cartopy.config['data_dir'] = '/g/data/xv83/dr6273/work/data/cartopy-data'"
   ]
  },
  {
   "cell_type": "markdown",
   "id": "3168516c-6f92-4d3c-adab-e63b05558513",
   "metadata": {},
   "source": [
    "# MJO"
   ]
  },
  {
   "cell_type": "markdown",
   "id": "28597778-63a5-4191-af1b-3fc0be7a910c",
   "metadata": {},
   "source": [
    "### Adames index\n",
    "\n",
    "1. Daily anomalies of $\\chi_{150} - \\chi_{850}$\n",
    "2. Area weight using \n",
    "2. PCA. First two PCs and EOFs.\n",
    "3. Amplitude: $\\sqrt{\\mathrm{PC}_{1}^{2} + \\mathrm{PC}_{2}^{2}}$.\n",
    "4. Phase: $\\arctan\\mathrm{2}(\\mathrm{PC}_{2}, \\mathrm{PC}_{1})$. Note the order of PCs here!\n",
    "5. Check signal propagates eastwards. If it doesn't, change the sign of one of the PCs."
   ]
  },
  {
   "cell_type": "code",
   "execution_count": null,
   "id": "dc418316-c7cd-4f9a-a587-cebf04031691",
   "metadata": {},
   "outputs": [],
   "source": [
    "def write_and_read(ds, filename):\n",
    "    \"\"\"\n",
    "    Write to zarr and read back in.\n",
    "    \"\"\"\n",
    "    if isinstance(ds, xr.DataArray):\n",
    "        is_DataArray = True\n",
    "        name = ds.name\n",
    "        ds = ds.to_dataset(name=name)\n",
    "    else:\n",
    "        is_DataArray = False\n",
    "            \n",
    "    ds.to_zarr(filename, consolidated=True, mode='w')\n",
    "    ds = xr.open_zarr(filename, consolidated=True)\n",
    "    \n",
    "    return ds[name] if is_DataArray else ds"
   ]
  },
  {
   "cell_type": "markdown",
   "id": "86c3ebf2-9cea-413f-8100-7132c2d295f9",
   "metadata": {},
   "source": [
    "### SVD takes ~1.5 hours to compute (for two data sets - unadjusted and detrended vpot)"
   ]
  },
  {
   "cell_type": "code",
   "execution_count": null,
   "id": "9640ea16-c9dc-43ce-bd8a-25d0302b6650",
   "metadata": {},
   "outputs": [],
   "source": [
    "compute = False"
   ]
  },
  {
   "cell_type": "code",
   "execution_count": null,
   "id": "9a152a30-e7ef-4b24-9efc-df84438a7fbf",
   "metadata": {},
   "outputs": [],
   "source": [
    "%%time\n",
    "if compute:\n",
    "    client.close()\n",
    "    cluster.close()\n",
    "    \n",
    "    walltime = '02:00:00'\n",
    "    cores = 24\n",
    "    memory = str(4 * cores)\n",
    "    memory = memory + 'GB'\n",
    "\n",
    "    cluster = PBSCluster(processes=1,\n",
    "                         walltime=str(walltime), cores=cores, memory=str(memory),\n",
    "                         job_extra=['-l ncpus='+str(cores),\n",
    "                                    '-l mem='+str(memory),\n",
    "                                    '-P xv83',\n",
    "                                    '-l storage=gdata/xv83+gdata/rt52+scratch/xv83'],\n",
    "                         header_skip=[\"select\"])\n",
    "    cluster.scale(jobs=1)\n",
    "    client = Client(cluster)\n",
    "    \n",
    "    # Load vpot data, take difference, anomalise, rechunk to single chunk and then write and read back in\n",
    "    vpot = xr.open_zarr('/g/data/xv83/dr6273/work/data/era5/vpot/vpot_era5_daily_2x2.zarr',\n",
    "                    consolidated=True)\n",
    "    vpot_diff = vpot.vpot.sel(level=150) - vpot.vpot.sel(level=850)\n",
    "    vpot_anoms = vpot_diff.groupby('time.dayofyear').apply(lambda x: x - x.mean('time'))\n",
    "    vpot_anoms = vpot_anoms.chunk({'time': -1, 'latitude': -1, 'longitude': -1})\n",
    "    vpot_anoms = write_and_read(vpot_anoms,\n",
    "                            '/g/data/xv83/dr6273/work/data/era5/vpot/derived/vpot_150-850_diff_anoms_era5_daily_2x2_single_chunk.zarr')\n",
    "    # Detrend vpot\n",
    "    vpot_anoms_dt = fn.detrend_dim(vpot_anoms, 'time')\n",
    "    vpot_anoms_dt.name = 'vpot'\n",
    "    vpot_anoms_dt = write_and_read(vpot_anoms_dt,\n",
    "                                '/g/data/xv83/dr6273/work/data/era5/vpot/derived/vpot_150-850_diff_anoms_era5_daily_2x2_single_chunk_detrended.zarr')\n",
    "    # PCA\n",
    "    import xeof\n",
    "    xeof.core.LAT_NAME = 'latitude'\n",
    "    \n",
    "    vpot_eof = xeof.eof(vpot_anoms,\n",
    "                        sensor_dims=['latitude', 'longitude'],\n",
    "                        sample_dim='time',\n",
    "                        weight='sqrt_cos_lat',\n",
    "                        n_modes=5,\n",
    "                        norm_PCs=False)\n",
    "    vpot_eof = vpot_eof.compute()\n",
    "    vpot_eof.to_zarr('/g/data/xv83/dr6273/work/data/era5/vpot/derived/vpot_150-850_diff_anoms_era5_daily_2x2_PCA.zarr',\n",
    "                     mode='w',\n",
    "                     consolidated=True)\n",
    "    \n",
    "    vpot_eof_dt = xeof.eof(vpot_anoms_dt,\n",
    "                            sensor_dims=['latitude', 'longitude'],\n",
    "                            sample_dim='time',\n",
    "                            weight='sqrt_cos_lat',\n",
    "                            n_modes=5,\n",
    "                            norm_PCs=False)\n",
    "    vpot_eof_dt = vpot_eof_dt.compute()\n",
    "    vpot_eof_dt.to_zarr('/g/data/xv83/dr6273/work/data/era5/vpot/derived/vpot_150-850_diff_anoms_era5_daily_2x2_PCA_detrended.zarr',\n",
    "                         mode='w',\n",
    "                         consolidated=True)\n",
    "    \n",
    "    client.close()\n",
    "    cluster.close()\n",
    "else:\n",
    "    vpot_eof = xr.open_zarr('/g/data/xv83/dr6273/work/data/era5/vpot/derived/vpot_150-850_diff_anoms_era5_daily_2x2_PCA.zarr',\n",
    "                            consolidated=True)\n",
    "    vpot_eof_dt = xr.open_zarr('/g/data/xv83/dr6273/work/data/era5/vpot/derived/vpot_150-850_diff_anoms_era5_daily_2x2_PCA_detrended.zarr',\n",
    "                                consolidated=True)"
   ]
  },
  {
   "cell_type": "code",
   "execution_count": null,
   "id": "d7a9cd09-f958-4f0d-92ef-a6bc591a70ba",
   "metadata": {},
   "outputs": [],
   "source": [
    "vpot_eof = vpot_eof.compute()"
   ]
  },
  {
   "cell_type": "code",
   "execution_count": null,
   "id": "bcf6f45b-7a08-4c64-afc3-600f651d4f87",
   "metadata": {},
   "outputs": [],
   "source": [
    "vpot_eof_dt = vpot_eof_dt.compute()"
   ]
  },
  {
   "cell_type": "markdown",
   "id": "9c238ca2-45ba-4dc2-8af7-d654d2ae2e20",
   "metadata": {},
   "source": [
    "### Check EOFs and PCs look right"
   ]
  },
  {
   "cell_type": "code",
   "execution_count": null,
   "id": "daea1b40-4de0-4fd5-93a9-d1f69cf505a6",
   "metadata": {},
   "outputs": [],
   "source": [
    "with plt.rc_context(plt_params):\n",
    "    fig = plt.figure(figsize=(6.9,3), dpi=150)\n",
    "    \n",
    "    for mode in range(2):\n",
    "        \n",
    "        # EOFs\n",
    "        pos = mode * 2 + 1\n",
    "        ax = fig.add_subplot(2, 2, pos, projection=ccrs.PlateCarree(central_longitude=180))\n",
    "        ax.coastlines(lw=0.5)\n",
    "        vpot_eof.eof.sel(mode=mode+1).plot(ax=ax,\n",
    "                                            transform=ccrs.PlateCarree(),\n",
    "                                            cbar_kwargs={'location': 'left',\n",
    "                                                         'label': r'EOF$_{'+str(mode+1)+'}$'})\n",
    "        ax.set_title('')\n",
    "#         ax.text(0.01, 0.15, str(np.round(vpot_eof.explained_var.sel(mode=mode+1).values * 100, 2))+'%',\n",
    "#                 transform=ax.transAxes)\n",
    "        \n",
    "        # PCs\n",
    "        pos = mode * 2 + 2\n",
    "        ax = fig.add_subplot(2, 2, pos)\n",
    "        vpot_eof.pc.sel(mode=mode+1, time='2020').plot(ax=ax)\n",
    "        ax.set_ylim(-1e9, 1e9)\n",
    "        ax.set_title('')\n",
    "        if mode < 1:\n",
    "            ax.set_xticklabels('')\n",
    "            ax.set_xlabel('')\n",
    "        ax.set_ylabel(r'PC$_{'+str(mode+1)+'}$')\n",
    "        ax.yaxis.tick_right()\n",
    "        ax.yaxis.set_label_position(\"right\")\n",
    "        \n",
    "    plt.subplots_adjust(hspace=0.18, wspace=0.05)\n",
    "    \n",
    "    plt.savefig('./figures/vpot_eofs.pdf', format='pdf', dpi=400, bbox_inches='tight')"
   ]
  },
  {
   "cell_type": "markdown",
   "id": "4aed05cb-9d17-46c6-8071-1c3018aec6f2",
   "metadata": {},
   "source": [
    "### Amplitude $A$ and phase $\\theta$"
   ]
  },
  {
   "cell_type": "code",
   "execution_count": null,
   "id": "d133d158-25ff-4968-8194-3a3bef131f94",
   "metadata": {},
   "outputs": [],
   "source": [
    "def calc_mjo(da, mode_1=1, mode_2=2, transform_mode_1=False, transform_mode_2=False):\n",
    "    \"\"\"\n",
    "    Calculate the phase and amplitude of the MJO\n",
    "    \"\"\"\n",
    "    m1 = da.sel(mode=mode_1)\n",
    "    m2 = da.sel(mode=mode_2)\n",
    "    \n",
    "    if transform_mode_1:\n",
    "        m1 = m1 * -1\n",
    "    if transform_mode_2:\n",
    "        m2 = m2 * -1\n",
    "        \n",
    "    amplitude = xr.ufuncs.sqrt(xr.ufuncs.square(m1) + xr.ufuncs.square(m2))\n",
    "    phase = xr.ufuncs.arctan2(m2, m1)\n",
    "    return amplitude, phase"
   ]
  },
  {
   "cell_type": "markdown",
   "id": "1d3269cd-3fe4-4dde-8d89-bc2034433bf7",
   "metadata": {
    "tags": []
   },
   "source": [
    "### To propagate eastwards, we need to ensure $d\\theta / dt$ is positive.\n",
    "\n",
    "- The figure below shows that in our case it is negative, so we multiply an EOF and the corresponding PC by -1"
   ]
  },
  {
   "cell_type": "code",
   "execution_count": null,
   "id": "a2da2afa-326f-4ddc-8d82-9bb0ef528944",
   "metadata": {},
   "outputs": [],
   "source": [
    "calc_mjo(vpot_eof.pc.sel(time='2020'))[1].plot()"
   ]
  },
  {
   "cell_type": "markdown",
   "id": "d5a1ec92-624e-4eb5-9f7d-a72c966a8006",
   "metadata": {},
   "source": [
    "### Multiply EOF 2 by -1"
   ]
  },
  {
   "cell_type": "code",
   "execution_count": null,
   "id": "0af70b2f-11a2-49cf-b2da-f0247321b200",
   "metadata": {},
   "outputs": [],
   "source": [
    "mjo_amplitude, mjo_phase = calc_mjo(vpot_eof.pc, transform_mode_2=True)\n",
    "\n",
    "mjo = mjo_phase.to_dataset(name='phase')\n",
    "mjo['amplitude'] = mjo_amplitude"
   ]
  },
  {
   "cell_type": "code",
   "execution_count": null,
   "id": "7954f5b9-8cbd-4b6d-89c6-c178a3c0ca55",
   "metadata": {},
   "outputs": [],
   "source": [
    "mjo_amplitude_dt, mjo_phase_dt = calc_mjo(vpot_eof_dt.pc, transform_mode_2=True)\n",
    "\n",
    "mjo_dt = mjo_phase_dt.to_dataset(name='phase_detrended')\n",
    "mjo_dt['amplitude_detrended'] = mjo_amplitude_dt"
   ]
  },
  {
   "cell_type": "markdown",
   "id": "3abbdf0c-51ce-4709-afa3-c79a5ae06b18",
   "metadata": {},
   "source": [
    "### We also want to label the phase according to its geographical location"
   ]
  },
  {
   "cell_type": "markdown",
   "id": "5ab7a1c0-147f-45aa-b90d-01c22896fe1d",
   "metadata": {},
   "source": [
    "When the phase, arctan2(PC2, PC1), is zero, PC2 must be zero, and PC1 must be positive. From looking at EOF1, we now know that phase of zero corresponds to upper-level convergence over the Maritime Continent, and an active MJO in the western Hemisphere/Africa.\n",
    "\n",
    "When PC2 = 0 and PC1 is negative, the phase is $\\pi$ and the MJO is active over the Maritime Continent.\n",
    "\n",
    "We label the phases from 1 to 8 following standard terminology:\n",
    "1. W Hem. & Africa\n",
    "2. Indian Ocean\n",
    "3. Indian Ocean\n",
    "4. Maritime Continent\n",
    "5. Maritime Continent\n",
    "6. W Pacific\n",
    "7. W Pacific\n",
    "8. W Hem. & Africa"
   ]
  },
  {
   "cell_type": "code",
   "execution_count": null,
   "id": "ca5c210a-4785-4598-b910-ab144278ce41",
   "metadata": {},
   "outputs": [],
   "source": [
    "def discretise_phase(da):\n",
    "    \"\"\"\n",
    "    Discretise MJO phase into octants\n",
    "    \"\"\"\n",
    "    bins = np.linspace(-np.pi, np.pi, 9) \n",
    "    phase = xr.apply_ufunc(np.digitize, da, bins, dask='allowed')\n",
    "    # Relabel so that octants refer to correct phase e.g. 0 < phase < pi/4 should be labelled \"1\"\n",
    "    phase = phase.where(phase > 4, phase + 8)\n",
    "    return phase - 4"
   ]
  },
  {
   "cell_type": "code",
   "execution_count": null,
   "id": "b614157b-5e9a-4778-b5c6-df98880220d5",
   "metadata": {},
   "outputs": [],
   "source": [
    "mjo['phase_ID'] = discretise_phase(mjo.phase)"
   ]
  },
  {
   "cell_type": "code",
   "execution_count": null,
   "id": "31b0c13b-55ba-4b2a-a1ac-09e667623c3b",
   "metadata": {},
   "outputs": [],
   "source": [
    "mjo.to_zarr('/g/data/xv83/dr6273/work/data/era5/climate_modes/mjo_daily_1979-2020.zarr',\n",
    "            mode='w',\n",
    "            consolidated=True)"
   ]
  },
  {
   "cell_type": "code",
   "execution_count": null,
   "id": "13854fe2-a9ab-46b4-983f-e02cd75313d3",
   "metadata": {},
   "outputs": [],
   "source": [
    "mjo_dt['phase_ID_detrended'] = discretise_phase(mjo_dt.phase_detrended)"
   ]
  },
  {
   "cell_type": "code",
   "execution_count": null,
   "id": "fd497735-1838-474b-a5e6-3bd1246fdc85",
   "metadata": {},
   "outputs": [],
   "source": [
    "mjo_dt.to_zarr('/g/data/xv83/dr6273/work/data/era5/climate_modes/mjo_daily_1979-2020_detrended.zarr',\n",
    "               mode='w',\n",
    "               consolidated=True)"
   ]
  },
  {
   "cell_type": "markdown",
   "id": "86829c5a-fcce-4574-9eb5-cf5aecd66e72",
   "metadata": {},
   "source": [
    "### Check polar representation of EOFs"
   ]
  },
  {
   "cell_type": "code",
   "execution_count": null,
   "id": "681efbce-fa26-4827-9fac-559c3ea4ae42",
   "metadata": {},
   "outputs": [],
   "source": [
    "def plot_polar(eofs):\n",
    "    \"\"\"\n",
    "    Plot MJO in polar representation\n",
    "    \"\"\"\n",
    "    # Change lons to 0-360\n",
    "    mjo_shift = eofs.copy()\n",
    "    mjo_shift['longitude'] = (mjo_shift['longitude'] + 360) % 360\n",
    "    mjo_shift = mjo_shift.sortby(mjo_shift['longitude'])\n",
    "    \n",
    "    shifted_eof_amplitude, shifted_eof_phase = calc_mjo(mjo_shift.eof.mean('latitude'), transform_mode_2=True)\n",
    "    \n",
    "    fig, ax = plt.subplots(1,1,dpi=100)\n",
    "    (mjo_shift.eof.sel(mode=1).mean('latitude') * 1).plot()\n",
    "    (mjo_shift.eof.sel(mode=2).mean('latitude') * -1).plot()\n",
    "    shifted_eof_amplitude.plot(color='k')\n",
    "    ax2 = ax.twinx()\n",
    "    shifted_eof_phase.plot(ax=ax2, color='gray')"
   ]
  },
  {
   "cell_type": "code",
   "execution_count": null,
   "id": "64941c04-1d02-4596-90e6-0f6394545053",
   "metadata": {},
   "outputs": [],
   "source": [
    "plot_polar(vpot_eof)"
   ]
  },
  {
   "cell_type": "code",
   "execution_count": null,
   "id": "e744aaec-0248-4758-8aa0-0de59009b075",
   "metadata": {},
   "outputs": [],
   "source": [
    "plot_polar(vpot_eof_dt)"
   ]
  },
  {
   "cell_type": "markdown",
   "id": "23003289-9961-4c2d-9d55-60ea901d0de4",
   "metadata": {},
   "source": [
    "### Compare with Bureau of Meteorology figures\n",
    "- http://www.bom.gov.au/climate/mjo/\n",
    "- We multiply PC2 by -1, which gives a rotated version of the BoM figures.\n",
    "- To align with orientation of BoM plots, multiply PC1, not PC2, by -1"
   ]
  },
  {
   "cell_type": "code",
   "execution_count": null,
   "id": "82a1de93-efac-42a0-ad8c-523248acd7df",
   "metadata": {},
   "outputs": [],
   "source": [
    "pc1 = vpot_eof.pc.sel(mode=1)\n",
    "pc2 = vpot_eof.pc.sel(mode=2) * -1"
   ]
  },
  {
   "cell_type": "code",
   "execution_count": null,
   "id": "e81a5665-6d29-42b1-b01a-111c09a08ad1",
   "metadata": {},
   "outputs": [],
   "source": [
    "def plot_mjo(pc1, pc2, time_str, z_dim='time', phase=None, filename=None, save_fig=False):\n",
    "    \"\"\"\n",
    "    Plot MJO progression\n",
    "    \"\"\"\n",
    "    with plt.rc_context(plt_params):\n",
    "        fig, ax = plt.subplots(1, 1, figsize=(4.9,4), dpi=150)\n",
    "\n",
    "        ax.set_xlim(-1.7e9, 1.7e9)\n",
    "        ax.set_ylim(-1.7e9, 1.7e9)\n",
    "        ax.axvline(0, color='lightgray', zorder=0)\n",
    "        ax.axhline(0, color='lightgray', zorder=0)\n",
    "        ax.plot((-1.7e9, 1.7e9), (-1.7e9, 1.7e9), color='lightgray', zorder=0)\n",
    "        ax.plot((-1.7e9, 1.7e9), (1.7e9, -1.7e9), color='lightgray', zorder=0)\n",
    "\n",
    "        x = pc1.sel(time=time_str).values\n",
    "        y = pc2.sel(time=time_str).values\n",
    "        if z_dim == 'time':\n",
    "            z = pd.to_datetime(pc1.sel(time=time_str).time.values).strftime('%Y-%m-%d')\n",
    "            c = range(len(z))\n",
    "        elif z_dim == 'phase':\n",
    "            z = phase.sel(time=time_str).values\n",
    "            c = z\n",
    "        else:\n",
    "            raise ValueError(\"z_dim should be 'time' or 'phase'\")\n",
    "\n",
    "        ax.plot(x, y, color='k', zorder=1)\n",
    "        if z_dim == 'time':\n",
    "            sc = ax.scatter(x, y, c=c, zorder=2, cmap='viridis')\n",
    "        else:\n",
    "            norm = matplotlib.colors.Normalize(vmin=-3.2, vmax=3.2)\n",
    "            sc = ax.scatter(x, y, c=c, zorder=2, cmap='RdBu', norm=norm)\n",
    "            \n",
    "        ax.text(x[0]+0.1e9, y[0]+0.0e9, 'Start')\n",
    "        ax.text(x[-1]-0.2e9, y[-1]+0.1e9, 'End')\n",
    "\n",
    "        ax.set_xlabel(r'PC$_{1}$')\n",
    "        ax.set_ylabel(r'PC$_{2}$')\n",
    "\n",
    "        # The following octant labels were determined by comparing with figures from www.bom.gov.au/climate/mjo/\n",
    "        ax.text(0.96, 0.75, '1', fontsize=plt_params['font.size']+7, ha='center', va='center', transform=ax.transAxes)\n",
    "        ax.text(0.75, 0.95, '2', fontsize=plt_params['font.size']+7, ha='center', va='center', transform=ax.transAxes)\n",
    "        ax.text(0.25, 0.95, '3', fontsize=plt_params['font.size']+7, ha='center', va='center', transform=ax.transAxes)\n",
    "        ax.text(0.04, 0.75, '4', fontsize=plt_params['font.size']+7, ha='center', va='center', transform=ax.transAxes)\n",
    "        ax.text(0.04, 0.25, '5', fontsize=plt_params['font.size']+7, ha='center', va='center', transform=ax.transAxes)\n",
    "        ax.text(0.25, 0.05, '6', fontsize=plt_params['font.size']+7, ha='center', va='center', transform=ax.transAxes)\n",
    "        ax.text(0.75, 0.05, '7', fontsize=plt_params['font.size']+7, ha='center', va='center', transform=ax.transAxes)\n",
    "        ax.text(0.96, 0.25, '8', fontsize=plt_params['font.size']+7, ha='center', va='center', transform=ax.transAxes)\n",
    "\n",
    "        ax.text(0.5, 0.96, 'Indian Ocean', ha='center', va='center', transform=ax.transAxes)\n",
    "        ax.text(0.04, 0.5, 'Maritime Continent', rotation=90, ha='center', va='center', transform=ax.transAxes)\n",
    "        ax.text(0.5, 0.04, 'Western Pacific', ha='center', va='center', transform=ax.transAxes)\n",
    "        ax.text(0.96, 0.5, 'W. Hem. and Africa', rotation=270, ha='center', va='center', transform=ax.transAxes)\n",
    "\n",
    "        cb = fig.colorbar(sc)\n",
    "        if z_dim == 'phase':\n",
    "            cb.set_ticks(np.arange(-np.pi, np.pi+0.01, np.pi/4))\n",
    "            cb.set_ticklabels([r'$-\\pi$', r'$-3\\pi/4$', r'$-\\pi/2$', r'$-\\pi/4$', '$0$',\n",
    "                              r'$\\pi/4$', r'$\\pi/2$', r'$3\\pi/4$', r'$\\pi$'])\n",
    "            cb.set_label(r'$\\theta$')\n",
    "        else:\n",
    "            cb.set_ticks(c[::3])\n",
    "            cb.set_ticklabels(z[::3])\n",
    "            \n",
    "        if save_fig:\n",
    "            plt.savefig('./figures/'+filename, format='pdf', dpi=400, bbox_inches='tight')"
   ]
  },
  {
   "cell_type": "code",
   "execution_count": null,
   "id": "ad992fef-4b53-43b7-bd9b-e82a1cff82a0",
   "metadata": {},
   "outputs": [],
   "source": [
    "plot_mjo(pc1, pc2, '2020-01')"
   ]
  },
  {
   "cell_type": "code",
   "execution_count": null,
   "id": "670a648b-3b24-406d-8d42-18158fd0374a",
   "metadata": {},
   "outputs": [],
   "source": [
    "plot_mjo(pc1, pc2, '2020-01', z_dim='phase', phase=mjo.phase, filename='mjo_phase_2020-01.pdf', save_fig=True)"
   ]
  },
  {
   "cell_type": "markdown",
   "id": "adfd484c-545d-460e-a726-c15cf4eb506a",
   "metadata": {
    "tags": []
   },
   "source": [
    "# Compute monthly MJO statistics"
   ]
  },
  {
   "cell_type": "markdown",
   "id": "8c6e11de-933d-4642-9cd8-99f96442b885",
   "metadata": {},
   "source": [
    "If we aggregate to monthly data then we can use existing codes to aggregate further to seasonal data needed for the coffee analysis.\n",
    "\n",
    "Compute these statistics:\n",
    "- Number of days in each phase per month\n",
    "- Average magnitude of all days in each phase each month"
   ]
  },
  {
   "cell_type": "code",
   "execution_count": null,
   "id": "dda3389f-1693-404c-9852-b9b68a3ec46c",
   "metadata": {},
   "outputs": [],
   "source": [
    "def mjo_stats(mjo_ds, detrended=False):\n",
    "    \"\"\"\n",
    "    Compute monthly statistics of MJO\n",
    "    \"\"\"\n",
    "    if detrended:\n",
    "        phase_ID_name = 'phase_ID_detrended'\n",
    "        amplitude_name = 'amplitude_detrended'\n",
    "    else:\n",
    "        phase_ID_name = 'phase_ID'\n",
    "        amplitude_name = 'amplitude'\n",
    "    \n",
    "    mjo_monthly = xr.Dataset()\n",
    "\n",
    "    phase_dpm_list = []\n",
    "    mean_amplitude_list = []\n",
    "\n",
    "    for phase in range(1,9):\n",
    "\n",
    "        phase_dpm_list.append(xr.where(mjo_ds[phase_ID_name] == phase, True, False) \\\n",
    "                              .resample(time='1MS').sum() \\\n",
    "                              .expand_dims({'phase_ID': [phase]}) \\\n",
    "                              .assign_coords({'phase_ID' : [phase]})\n",
    "                      )\n",
    "        mean_amplitude_list.append(mjo_ds[amplitude_name].where(mjo_ds[phase_ID_name] == phase) \\\n",
    "                                   .resample(time='1MS').mean() \\\n",
    "                                   .expand_dims({'phase_ID': [phase]}) \\\n",
    "                                   .assign_coords({'phase_ID': [phase]})\n",
    "                                  )\n",
    "\n",
    "    if detrended:\n",
    "        mjo_monthly['mjo_days_per_month_detrended'] = xr.concat(phase_dpm_list, dim='phase_ID')\n",
    "        mjo_monthly['mjo_mean_amplitude_detrended'] = xr.concat(mean_amplitude_list, dim='phase_ID')\n",
    "    else:\n",
    "        mjo_monthly['mjo_days_per_month'] = xr.concat(phase_dpm_list, dim='phase_ID')\n",
    "        mjo_monthly['mjo_mean_amplitude'] = xr.concat(mean_amplitude_list, dim='phase_ID')\n",
    "    \n",
    "    return mjo_monthly"
   ]
  },
  {
   "cell_type": "code",
   "execution_count": null,
   "id": "e54fb99e-e087-4765-9fa6-3e09c0e541d9",
   "metadata": {},
   "outputs": [],
   "source": [
    "mjo_monthly = mjo_stats(mjo)"
   ]
  },
  {
   "cell_type": "code",
   "execution_count": null,
   "id": "5a9046e8-3e51-48fb-8c0e-bf95a10b9f2b",
   "metadata": {},
   "outputs": [],
   "source": [
    "mjo_monthly.to_zarr('/g/data/xv83/dr6273/work/data/era5/climate_modes/mjo_monthly_1979-2020.zarr',\n",
    "                   mode='w', consolidated=True)"
   ]
  },
  {
   "cell_type": "code",
   "execution_count": null,
   "id": "71c36cf8-0b9c-4ee2-b96d-0b760ea7283f",
   "metadata": {},
   "outputs": [],
   "source": [
    "mjo_monthly_dt = mjo_stats(mjo_dt, detrended=True)"
   ]
  },
  {
   "cell_type": "code",
   "execution_count": null,
   "id": "a9ed9796-9e8a-4ab1-b1ae-67646f6f4a5d",
   "metadata": {},
   "outputs": [],
   "source": [
    "mjo_monthly_dt.to_zarr('/g/data/xv83/dr6273/work/data/era5/climate_modes/mjo_monthly_1979-2020_detrended.zarr',\n",
    "                   mode='w', consolidated=True)"
   ]
  },
  {
   "cell_type": "markdown",
   "id": "7b594a82-6763-4bb4-995b-987dd28dae74",
   "metadata": {},
   "source": [
    "# Also calculate anomalies"
   ]
  },
  {
   "cell_type": "code",
   "execution_count": null,
   "id": "22249b46-1387-438e-ad7b-dd00058086ca",
   "metadata": {},
   "outputs": [],
   "source": [
    "mjo_monthly_anoms = mjo_monthly.groupby('time.month').apply(lambda x: x - x.mean('time'))"
   ]
  },
  {
   "cell_type": "code",
   "execution_count": null,
   "id": "daf6d3d2-a682-4bb2-9950-6451f9233ca0",
   "metadata": {},
   "outputs": [],
   "source": [
    "mjo_monthly_anoms.to_zarr('/g/data/xv83/dr6273/work/data/era5/climate_modes/mjo_monthly_anoms_1979-2020.zarr',\n",
    "                           mode='w', consolidated=True)"
   ]
  },
  {
   "cell_type": "code",
   "execution_count": null,
   "id": "4c5c3fec-9b3c-43d4-a3d0-aa247b960530",
   "metadata": {},
   "outputs": [],
   "source": [
    "mjo_monthly_dt_anoms = mjo_monthly_dt.groupby('time.month').apply(lambda x: x - x.mean('time'))"
   ]
  },
  {
   "cell_type": "code",
   "execution_count": null,
   "id": "059d231b-5346-4084-941f-6520a8aa93fe",
   "metadata": {},
   "outputs": [],
   "source": [
    "mjo_monthly_dt_anoms.to_zarr('/g/data/xv83/dr6273/work/data/era5/climate_modes/mjo_monthly_anoms_1979-2020_detrended.zarr',\n",
    "                               mode='w', consolidated=True)"
   ]
  },
  {
   "cell_type": "markdown",
   "id": "2bf12fc3-a4eb-4e10-9c85-ab684a9b1784",
   "metadata": {},
   "source": [
    "# Close cluster"
   ]
  },
  {
   "cell_type": "code",
   "execution_count": null,
   "id": "66c3a9be-bc0d-427c-9701-ade768e19f13",
   "metadata": {},
   "outputs": [],
   "source": [
    "client.close()\n",
    "cluster.close()"
   ]
  },
  {
   "cell_type": "code",
   "execution_count": null,
   "id": "5d7bb5d0-ec4d-43eb-88b3-37fb3ff9a5a0",
   "metadata": {},
   "outputs": [],
   "source": []
  }
 ],
 "metadata": {
  "kernelspec": {
   "display_name": "Python (pangeo)",
   "language": "python",
   "name": "pangeo"
  },
  "language_info": {
   "codemirror_mode": {
    "name": "ipython",
    "version": 3
   },
   "file_extension": ".py",
   "mimetype": "text/x-python",
   "name": "python",
   "nbconvert_exporter": "python",
   "pygments_lexer": "ipython3",
   "version": "3.10.8"
  }
 },
 "nbformat": 4,
 "nbformat_minor": 5
}

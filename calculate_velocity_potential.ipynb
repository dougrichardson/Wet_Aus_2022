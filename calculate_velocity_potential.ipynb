{
 "cells": [
  {
   "cell_type": "markdown",
   "id": "d01fb838",
   "metadata": {},
   "source": [
    "# Calculate velocity potential"
   ]
  },
  {
   "cell_type": "markdown",
   "id": "eed18039-21b5-456e-89cc-6b8723280a62",
   "metadata": {},
   "source": [
    "### This notebook is adapted from:\n",
    "\n",
    "https://github.com/dougrichardson/Richardson_2022_coffee/blob/main/0e_calculate_velocity_potential.ipynb"
   ]
  },
  {
   "cell_type": "code",
   "execution_count": 1,
   "id": "127169f8",
   "metadata": {},
   "outputs": [],
   "source": [
    "from dask_jobqueue import PBSCluster\n",
    "from dask.distributed import Client"
   ]
  },
  {
   "cell_type": "code",
   "execution_count": 2,
   "id": "a24c070d",
   "metadata": {},
   "outputs": [],
   "source": [
    "# One node on Gadi has 48 cores - try and use up a full core before going to multiple nodes (jobs)\n",
    "\n",
    "walltime = '00:10:00'\n",
    "cores = 48\n",
    "memory = str(cores * 4) + 'GB'\n",
    "\n",
    "cluster = PBSCluster(walltime=str(walltime), cores=cores, memory=str(memory), processes=cores,\n",
    "                     job_extra_directives=['-q normal',\n",
    "                                           '-P w42',\n",
    "                                           '-l ncpus='+str(cores),\n",
    "                                           '-l mem='+str(memory),\n",
    "                                           '-l storage=gdata/w42+gdata/rt52'],\n",
    "                     local_directory='$TMPDIR',\n",
    "                     job_directives_skip=[\"select\"])"
   ]
  },
  {
   "cell_type": "code",
   "execution_count": 3,
   "id": "4cfed915",
   "metadata": {},
   "outputs": [],
   "source": [
    "cluster.scale(jobs=1)\n",
    "client = Client(cluster)"
   ]
  },
  {
   "cell_type": "code",
   "execution_count": 4,
   "id": "0b3ae272",
   "metadata": {},
   "outputs": [
    {
     "data": {
      "text/html": [
       "<div>\n",
       "    <div style=\"width: 24px; height: 24px; background-color: #e1e1e1; border: 3px solid #9D9D9D; border-radius: 5px; position: absolute;\"> </div>\n",
       "    <div style=\"margin-left: 48px;\">\n",
       "        <h3 style=\"margin-bottom: 0px;\">Client</h3>\n",
       "        <p style=\"color: #9D9D9D; margin-bottom: 0px;\">Client-22ec4b98-c873-11ed-b692-00000082fe80</p>\n",
       "        <table style=\"width: 100%; text-align: left;\">\n",
       "\n",
       "        <tr>\n",
       "        \n",
       "            <td style=\"text-align: left;\"><strong>Connection method:</strong> Cluster object</td>\n",
       "            <td style=\"text-align: left;\"><strong>Cluster type:</strong> dask_jobqueue.PBSCluster</td>\n",
       "        \n",
       "        </tr>\n",
       "\n",
       "        \n",
       "            <tr>\n",
       "                <td style=\"text-align: left;\">\n",
       "                    <strong>Dashboard: </strong> <a href=\"http://10.6.62.32:8787/status\" target=\"_blank\">http://10.6.62.32:8787/status</a>\n",
       "                </td>\n",
       "                <td style=\"text-align: left;\"></td>\n",
       "            </tr>\n",
       "        \n",
       "\n",
       "        </table>\n",
       "\n",
       "        \n",
       "            <button style=\"margin-bottom: 12px;\" data-commandlinker-command=\"dask:populate-and-launch-layout\" data-commandlinker-args='{\"url\": \"http://10.6.62.32:8787/status\" }'>\n",
       "                Launch dashboard in JupyterLab\n",
       "            </button>\n",
       "        \n",
       "\n",
       "        \n",
       "            <details>\n",
       "            <summary style=\"margin-bottom: 20px;\"><h3 style=\"display: inline;\">Cluster Info</h3></summary>\n",
       "            <div class=\"jp-RenderedHTMLCommon jp-RenderedHTML jp-mod-trusted jp-OutputArea-output\">\n",
       "    <div style=\"width: 24px; height: 24px; background-color: #e1e1e1; border: 3px solid #9D9D9D; border-radius: 5px; position: absolute;\">\n",
       "    </div>\n",
       "    <div style=\"margin-left: 48px;\">\n",
       "        <h3 style=\"margin-bottom: 0px; margin-top: 0px;\">PBSCluster</h3>\n",
       "        <p style=\"color: #9D9D9D; margin-bottom: 0px;\">3ee09139</p>\n",
       "        <table style=\"width: 100%; text-align: left;\">\n",
       "            <tr>\n",
       "                <td style=\"text-align: left;\">\n",
       "                    <strong>Dashboard:</strong> <a href=\"http://10.6.62.32:8787/status\" target=\"_blank\">http://10.6.62.32:8787/status</a>\n",
       "                </td>\n",
       "                <td style=\"text-align: left;\">\n",
       "                    <strong>Workers:</strong> 0\n",
       "                </td>\n",
       "            </tr>\n",
       "            <tr>\n",
       "                <td style=\"text-align: left;\">\n",
       "                    <strong>Total threads:</strong> 0\n",
       "                </td>\n",
       "                <td style=\"text-align: left;\">\n",
       "                    <strong>Total memory:</strong> 0 B\n",
       "                </td>\n",
       "            </tr>\n",
       "            \n",
       "        </table>\n",
       "\n",
       "        <details>\n",
       "            <summary style=\"margin-bottom: 20px;\">\n",
       "                <h3 style=\"display: inline;\">Scheduler Info</h3>\n",
       "            </summary>\n",
       "\n",
       "            <div style=\"\">\n",
       "    <div>\n",
       "        <div style=\"width: 24px; height: 24px; background-color: #FFF7E5; border: 3px solid #FF6132; border-radius: 5px; position: absolute;\"> </div>\n",
       "        <div style=\"margin-left: 48px;\">\n",
       "            <h3 style=\"margin-bottom: 0px;\">Scheduler</h3>\n",
       "            <p style=\"color: #9D9D9D; margin-bottom: 0px;\">Scheduler-829d5fd0-3481-4a5e-81d4-7c7947bc3823</p>\n",
       "            <table style=\"width: 100%; text-align: left;\">\n",
       "                <tr>\n",
       "                    <td style=\"text-align: left;\">\n",
       "                        <strong>Comm:</strong> tcp://10.6.62.32:40711\n",
       "                    </td>\n",
       "                    <td style=\"text-align: left;\">\n",
       "                        <strong>Workers:</strong> 0\n",
       "                    </td>\n",
       "                </tr>\n",
       "                <tr>\n",
       "                    <td style=\"text-align: left;\">\n",
       "                        <strong>Dashboard:</strong> <a href=\"http://10.6.62.32:8787/status\" target=\"_blank\">http://10.6.62.32:8787/status</a>\n",
       "                    </td>\n",
       "                    <td style=\"text-align: left;\">\n",
       "                        <strong>Total threads:</strong> 0\n",
       "                    </td>\n",
       "                </tr>\n",
       "                <tr>\n",
       "                    <td style=\"text-align: left;\">\n",
       "                        <strong>Started:</strong> Just now\n",
       "                    </td>\n",
       "                    <td style=\"text-align: left;\">\n",
       "                        <strong>Total memory:</strong> 0 B\n",
       "                    </td>\n",
       "                </tr>\n",
       "            </table>\n",
       "        </div>\n",
       "    </div>\n",
       "\n",
       "    <details style=\"margin-left: 48px;\">\n",
       "        <summary style=\"margin-bottom: 20px;\">\n",
       "            <h3 style=\"display: inline;\">Workers</h3>\n",
       "        </summary>\n",
       "\n",
       "        \n",
       "\n",
       "    </details>\n",
       "</div>\n",
       "\n",
       "        </details>\n",
       "    </div>\n",
       "</div>\n",
       "            </details>\n",
       "        \n",
       "\n",
       "    </div>\n",
       "</div>"
      ],
      "text/plain": [
       "<Client: 'tcp://10.6.62.32:40711' processes=0 threads=0, memory=0 B>"
      ]
     },
     "execution_count": 4,
     "metadata": {},
     "output_type": "execute_result"
    }
   ],
   "source": [
    "client"
   ]
  },
  {
   "cell_type": "code",
   "execution_count": 2,
   "id": "1c00b430",
   "metadata": {},
   "outputs": [],
   "source": [
    "import xarray as xr\n",
    "import os\n",
    "import numpy as np"
   ]
  },
  {
   "cell_type": "code",
   "execution_count": 3,
   "id": "e3324a04-915d-40c2-9338-7f7e1a58ee38",
   "metadata": {},
   "outputs": [],
   "source": [
    "years = range(2022, 2023)\n",
    "levels = [150, 850]"
   ]
  },
  {
   "cell_type": "markdown",
   "id": "7799711c",
   "metadata": {
    "tags": []
   },
   "source": [
    "# Daily u and v data - use standard dask and xarray tools\n",
    "\n",
    "- To process hourly data to daily, for two isobaric levels, takes around 4 hours (using 3 full nodes; ~576 GB)"
   ]
  },
  {
   "cell_type": "code",
   "execution_count": 4,
   "id": "ccbc614c",
   "metadata": {},
   "outputs": [],
   "source": [
    "def get_files(file_path, var, years):\n",
    "    \"\"\"\n",
    "    Get list of files\n",
    "    \"\"\"\n",
    "    fp_list = []\n",
    "    for year in years:\n",
    "        fp_dir = file_path+var+'/'+str(year)+'/'\n",
    "        for fp in sorted(os.listdir(fp_dir)):\n",
    "            fp_list.append(fp_dir+fp)\n",
    "    return fp_list"
   ]
  },
  {
   "cell_type": "code",
   "execution_count": 5,
   "id": "9abfc787-9f32-4ed0-919b-a069bc8bd9a8",
   "metadata": {},
   "outputs": [],
   "source": [
    "load = True"
   ]
  },
  {
   "cell_type": "code",
   "execution_count": 6,
   "id": "aa3945e4",
   "metadata": {},
   "outputs": [
    {
     "name": "stdout",
     "output_type": "stream",
     "text": [
      "CPU times: user 407 ms, sys: 155 ms, total: 562 ms\n",
      "Wall time: 846 ms\n"
     ]
    }
   ],
   "source": [
    "%%time\n",
    "if load:\n",
    "    u = xr.open_zarr('/g/data/w42/dr6273/work/data/era5/u/u_era5_daily_'+str(years[0])+'-'+str(years[-1])+'.zarr', consolidated=True)\n",
    "    v = xr.open_zarr('/g/data/w42/dr6273/work/data/era5/v/v_era5_daily_'+str(years[0])+'-'+str(years[-1])+'.zarr', consolidated=True)\n",
    "else:\n",
    "    u_files = get_files('/g/data/rt52/era5/pressure-levels/reanalysis/', 'u', years)\n",
    "    v_files = get_files('/g/data/rt52/era5/pressure-levels/reanalysis/', 'v', years)\n",
    "    \n",
    "    # Using preprocess in open_mfdataset to select desired levels improves performance\n",
    "    #  versus doing a .sel() afterwards\n",
    "    def preprocess(ds):\n",
    "        return ds.sel(level=levels)\n",
    "    \n",
    "    u = xr.open_mfdataset(u_files,\n",
    "                          chunks={'time': 24, 'level': 1},\n",
    "                          preprocess=preprocess,\n",
    "                          compat='override',\n",
    "                          coords='minimal',\n",
    "                          engine='netcdf4')\n",
    "\n",
    "    v = xr.open_mfdataset(v_files,\n",
    "                          chunks={'time': 24, 'level': 1},\n",
    "                          compat='override',\n",
    "                          preprocess=preprocess,\n",
    "                          coords='minimal',\n",
    "                          engine='netcdf4')\n",
    "    \n",
    "    u = u.resample(time='1D').mean()\n",
    "    v = v.resample(time='1D').mean()\n",
    "    \n",
    "    u_encoding = {'u': {'dtype': 'float32'}}\n",
    "    v_encoding = {'v': {'dtype': 'float32'}}\n",
    "    \n",
    "    u.to_zarr('/g/data/w42/dr6273/work/data/era5/u/u_era5_daily_'+str(years[0])+'-'+str(years[-1])+'.zarr',\n",
    "              mode='w',\n",
    "              consolidated=True,\n",
    "              encoding=u_encoding)\n",
    "\n",
    "    v.to_zarr('/g/data/w42/dr6273/work/data/era5/v/v_era5_daily_'+str(years[0])+'-'+str(years[-1])+'.zarr',\n",
    "                mode='w',\n",
    "                consolidated=True,\n",
    "                encoding=v_encoding)\n",
    "    \n",
    "    # Close cluster\n",
    "    client.close()\n",
    "    cluster.close()"
   ]
  },
  {
   "cell_type": "markdown",
   "id": "a80d897f-1c1a-43af-b4fc-0d96f3986741",
   "metadata": {},
   "source": [
    "# Calculate velocity potential using `windspharm`\n",
    "\n",
    "- Non-lazy, so we do this separately for each year and isobaric level\n",
    "- Used 10 cores at 40GB"
   ]
  },
  {
   "cell_type": "code",
   "execution_count": 7,
   "id": "1dda5c0f-0732-4411-a7aa-8a7cb8d2f37a",
   "metadata": {},
   "outputs": [
    {
     "ename": "ModuleNotFoundError",
     "evalue": "No module named 'windspharm'",
     "output_type": "error",
     "traceback": [
      "\u001b[0;31m---------------------------------------------------------------------------\u001b[0m",
      "\u001b[0;31mModuleNotFoundError\u001b[0m                       Traceback (most recent call last)",
      "Cell \u001b[0;32mIn[7], line 1\u001b[0m\n\u001b[0;32m----> 1\u001b[0m \u001b[38;5;28;01mfrom\u001b[39;00m \u001b[38;5;21;01mwindspharm\u001b[39;00m\u001b[38;5;21;01m.\u001b[39;00m\u001b[38;5;21;01mstandard\u001b[39;00m \u001b[38;5;28;01mimport\u001b[39;00m VectorWind\n\u001b[1;32m      2\u001b[0m \u001b[38;5;28;01mfrom\u001b[39;00m \u001b[38;5;21;01mwindspharm\u001b[39;00m\u001b[38;5;21;01m.\u001b[39;00m\u001b[38;5;21;01mtools\u001b[39;00m \u001b[38;5;28;01mimport\u001b[39;00m prep_data, recover_data, order_latdim\n",
      "\u001b[0;31mModuleNotFoundError\u001b[0m: No module named 'windspharm'"
     ]
    }
   ],
   "source": [
    "from windspharm.standard import VectorWind\n",
    "from windspharm.tools import prep_data, recover_data, order_latdim"
   ]
  },
  {
   "cell_type": "code",
   "execution_count": 5,
   "id": "4d45b7c9-1ab3-49e7-b50e-bcc4cd9045d3",
   "metadata": {},
   "outputs": [],
   "source": [
    "# Need the system path to xeof package\n",
    "import sys\n",
    "sys.path.append('/g/data/w42/dr6273/work/')"
   ]
  },
  {
   "cell_type": "markdown",
   "id": "59faa20a-a284-4f62-a209-cb76012480c1",
   "metadata": {},
   "source": [
    "### For each level and year\n",
    "\n",
    "~ Takes around 3 minutes per level and year\n",
    "~ 2 levels, 42 years takes around 4.5 hours"
   ]
  },
  {
   "cell_type": "code",
   "execution_count": null,
   "id": "72997196-63f7-477c-b160-6708206136c0",
   "metadata": {},
   "outputs": [],
   "source": [
    "def write_vpot(u, v, level, year):\n",
    "    \n",
    "    lons = u.longitude.values\n",
    "    lats = u.latitude.values\n",
    "    year = str(year)\n",
    "\n",
    "    # Subsample u and v\n",
    "    u_ = u.u.sel(time=year, level=level)\n",
    "    v_ = v.v.sel(time=year, level=level)\n",
    "\n",
    "    # Transpose to ensure time is out front\n",
    "    u_ = u_.transpose('time', 'latitude', 'longitude')\n",
    "    v_ = v_.transpose('time', 'latitude', 'longitude')\n",
    "\n",
    "    # Load values\n",
    "    uwnd = u_.values\n",
    "    vwnd = v_.values\n",
    "\n",
    "    # Ensure data is in correct shape for windspharm\n",
    "    uwnd, uwnd_info = prep_data(uwnd, 'tyx') # 'tyx' because data is in format time, lat, lon\n",
    "    vwnd, vwnd_info = prep_data(vwnd, 'tyx')\n",
    "    lats, uwnd, vwnd = order_latdim(lats, uwnd, vwnd)\n",
    "\n",
    "    # Create a VectorWind instance to handle computation of streamfunction and velocity potential\n",
    "    w = VectorWind(uwnd, vwnd)\n",
    "\n",
    "    # Calculate velocity potential\n",
    "    _, vp = w.sfvp()\n",
    "\n",
    "    # Re-shape to original format\n",
    "    vp = recover_data(vp, uwnd_info)\n",
    "\n",
    "    # Put into DataArray and format for writing\n",
    "    vp = xr.DataArray(vp,\n",
    "                     dims=['time', 'latitude', 'longitude'],\n",
    "                     coords={'time': u_['time'].values,\n",
    "                             'latitude': u_['latitude'].values,\n",
    "                             'longitude': u_['longitude'].values})\n",
    "    vp = vp.assign_attrs({'short_name': 'vpot',\n",
    "                          'long name': 'velocity potential',\n",
    "                          'units': 'm^2 / s^-1'})\n",
    "    vp = vp.expand_dims({'level': [level]})\n",
    "    vp = vp.to_dataset(name='vpot')\n",
    "    vp_encoding = {'vpot': {'dtype': 'float32'}}\n",
    "\n",
    "    vp.to_netcdf('/g/data/w42/dr6273/work/data/era5/vpot/nc/vpot_'+str(level)+'_era5_daily_'+str(year)+'.nc',\n",
    "                mode='w',\n",
    "                encoding=vp_encoding)"
   ]
  },
  {
   "cell_type": "code",
   "execution_count": null,
   "id": "668f3a5e-882f-475f-8f50-8036633020f7",
   "metadata": {},
   "outputs": [],
   "source": [
    "%%time\n",
    "for level in levels:\n",
    "    for year in years:\n",
    "        write_vpot(u, v, level, year)"
   ]
  },
  {
   "cell_type": "markdown",
   "id": "9f23f894-8a3e-41ef-add7-2239bbd6d17e",
   "metadata": {},
   "source": [
    "# Close cluster"
   ]
  },
  {
   "cell_type": "code",
   "execution_count": null,
   "id": "6a65f0e2-82a4-4460-ba1f-165191c871c3",
   "metadata": {},
   "outputs": [],
   "source": [
    "client.close()\n",
    "cluster.close()"
   ]
  },
  {
   "cell_type": "markdown",
   "id": "01f751e1-b3d7-444d-a1d0-ec892ea19e84",
   "metadata": {},
   "source": [
    "# Regrid VPOT to 2x2\n",
    "\n",
    "- Takes around 2 minutes but need quite a few resources. I used two nodes here."
   ]
  },
  {
   "cell_type": "code",
   "execution_count": null,
   "id": "3d1ad4e7-fe8b-4519-b61c-b96075f781d2",
   "metadata": {},
   "outputs": [],
   "source": [
    "from dask_jobqueue import PBSCluster\n",
    "from dask.distributed import Client"
   ]
  },
  {
   "cell_type": "code",
   "execution_count": null,
   "id": "44f03de5-4276-433e-b328-daffa2f18228",
   "metadata": {},
   "outputs": [],
   "source": [
    "# One node on Gadi has 48 cores - try and use up a full core before going to multiple nodes (jobs)\n",
    "\n",
    "walltime = '00:05:00'\n",
    "cores = 48\n",
    "memory = str(cores * 4) + 'GB'\n",
    "\n",
    "cluster = PBSCluster(walltime=str(walltime), cores=cores, memory=str(memory),\n",
    "                     job_extra=['-l ncpus='+str(cores),\n",
    "                                '-l mem='+str(memory),\n",
    "                                '-P w42',\n",
    "                                '-l storage=gdata/w42+gdata/rt52+scratch/w42'],\n",
    "                     header_skip=[\"select\"])"
   ]
  },
  {
   "cell_type": "code",
   "execution_count": null,
   "id": "d11de28c-3919-491c-827d-7f9f2ad9e78c",
   "metadata": {},
   "outputs": [],
   "source": [
    "cluster.scale(jobs=2)\n",
    "client = Client(cluster)"
   ]
  },
  {
   "cell_type": "code",
   "execution_count": null,
   "id": "e9986ecd-17a4-4eae-853c-335772bea5e1",
   "metadata": {},
   "outputs": [],
   "source": [
    "client"
   ]
  },
  {
   "cell_type": "code",
   "execution_count": null,
   "id": "735560ee-303d-4b88-9b45-4593f4bbcf86",
   "metadata": {},
   "outputs": [],
   "source": [
    "import xarray as xr"
   ]
  },
  {
   "cell_type": "markdown",
   "id": "b185cd0f-71e1-4732-9572-31e679874c93",
   "metadata": {},
   "source": [
    "# Load daily vpot data"
   ]
  },
  {
   "cell_type": "code",
   "execution_count": null,
   "id": "6ca1e217-328f-48e2-98f5-c5b1e7f9fb6e",
   "metadata": {},
   "outputs": [],
   "source": [
    "vpot = xr.open_mfdataset('/g/data/w42/dr6273/work/data/era5/vpot/nc/*.nc',\n",
    "                         coords='minimal',\n",
    "                         compat='override')"
   ]
  },
  {
   "cell_type": "code",
   "execution_count": null,
   "id": "6f783abb-4b49-41d8-ab95-3bdffc0a56fa",
   "metadata": {},
   "outputs": [],
   "source": [
    "vpot = vpot.chunk({'latitude': -1, 'longitude': -1, 'level': 1, 'time': 25})"
   ]
  },
  {
   "cell_type": "markdown",
   "id": "e795dac6-4810-433d-ad4b-16e53f420204",
   "metadata": {},
   "source": [
    "### Set up 2x2 array"
   ]
  },
  {
   "cell_type": "code",
   "execution_count": null,
   "id": "820ab1d9-daa6-4bbb-acfd-826f494e8ace",
   "metadata": {},
   "outputs": [],
   "source": [
    "import xesmf as xe"
   ]
  },
  {
   "cell_type": "code",
   "execution_count": null,
   "id": "344a619e-64d0-410b-ad75-533095282103",
   "metadata": {},
   "outputs": [],
   "source": [
    "target_grid = xr.Dataset({'latitude': (['latitude'], np.arange(90, -91, -2)),\n",
    "                          'longitude': (['longitude'], np.arange(-180, 180, 2))})"
   ]
  },
  {
   "cell_type": "code",
   "execution_count": null,
   "id": "a09c9172-4863-4d25-ae97-f306dd645755",
   "metadata": {},
   "outputs": [],
   "source": [
    "regridder = xe.Regridder(vpot, target_grid, 'bilinear')\n",
    "regridder"
   ]
  },
  {
   "cell_type": "code",
   "execution_count": null,
   "id": "b87fbcac-7fcf-4085-9d5e-a93e56cdc4ce",
   "metadata": {},
   "outputs": [],
   "source": [
    "vpot_2 = regridder(vpot)"
   ]
  },
  {
   "cell_type": "code",
   "execution_count": null,
   "id": "425d3b95-14a4-4414-88c2-6ae739e6c823",
   "metadata": {
    "tags": []
   },
   "outputs": [],
   "source": [
    "vpot_2.to_zarr('/g/data/w42/dr6273/work/data/era5/vpot/vpot_era5_daily_2x2.zarr',\n",
    "               mode='w', consolidated=True)"
   ]
  },
  {
   "cell_type": "markdown",
   "id": "96d25887-dece-44a6-a9b2-b565ee476bbd",
   "metadata": {},
   "source": [
    "# Close cluster"
   ]
  },
  {
   "cell_type": "code",
   "execution_count": null,
   "id": "25639916-2f7e-4787-acba-4ffd66535d66",
   "metadata": {},
   "outputs": [],
   "source": [
    "client.close()\n",
    "cluster.close()"
   ]
  },
  {
   "cell_type": "code",
   "execution_count": null,
   "id": "0bbf4352-ae16-409f-a64b-6e64724307c1",
   "metadata": {},
   "outputs": [],
   "source": []
  }
 ],
 "metadata": {
  "kernelspec": {
   "display_name": "Python 3 (ipykernel)",
   "language": "python",
   "name": "python3"
  },
  "language_info": {
   "codemirror_mode": {
    "name": "ipython",
    "version": 3
   },
   "file_extension": ".py",
   "mimetype": "text/x-python",
   "name": "python",
   "nbconvert_exporter": "python",
   "pygments_lexer": "ipython3",
   "version": "3.10.8"
  }
 },
 "nbformat": 4,
 "nbformat_minor": 5
}

{
 "cells": [
  {
   "cell_type": "markdown",
   "id": "d01fb838",
   "metadata": {},
   "source": [
    "# Calculate velocity potential"
   ]
  },
  {
   "cell_type": "markdown",
   "id": "eed18039-21b5-456e-89cc-6b8723280a62",
   "metadata": {},
   "source": [
    "### This notebook is adapted from:\n",
    "\n",
    "https://github.com/dougrichardson/Richardson_2022_coffee/blob/main/0e_calculate_velocity_potential.ipynb"
   ]
  },
  {
   "cell_type": "code",
   "execution_count": 1,
   "id": "127169f8",
   "metadata": {},
   "outputs": [],
   "source": [
    "from dask_jobqueue import PBSCluster\n",
    "from dask.distributed import Client"
   ]
  },
  {
   "cell_type": "code",
   "execution_count": 2,
   "id": "a24c070d",
   "metadata": {},
   "outputs": [],
   "source": [
    "# One node on Gadi has 48 cores - try and use up a full core before going to multiple nodes (jobs)\n",
    "\n",
    "walltime = '00:10:00'\n",
    "cores = 48\n",
    "memory = str(cores * 4) + 'GB'\n",
    "\n",
    "cluster = PBSCluster(walltime=str(walltime), cores=cores, memory=str(memory), processes=cores,\n",
    "                     job_extra_directives=['-q normal',\n",
    "                                           '-P w42',\n",
    "                                           '-l ncpus='+str(cores),\n",
    "                                           '-l mem='+str(memory),\n",
    "                                           '-l storage=gdata/w42+gdata/rt52'],\n",
    "                     local_directory='$TMPDIR',\n",
    "                     job_directives_skip=[\"select\"])"
   ]
  },
  {
   "cell_type": "code",
   "execution_count": 3,
   "id": "4cfed915",
   "metadata": {},
   "outputs": [],
   "source": [
    "cluster.scale(jobs=1)\n",
    "client = Client(cluster)"
   ]
  },
  {
   "cell_type": "code",
   "execution_count": 4,
   "id": "0b3ae272",
   "metadata": {},
   "outputs": [
    {
     "data": {
      "text/html": [
       "<div>\n",
       "    <div style=\"width: 24px; height: 24px; background-color: #e1e1e1; border: 3px solid #9D9D9D; border-radius: 5px; position: absolute;\"> </div>\n",
       "    <div style=\"margin-left: 48px;\">\n",
       "        <h3 style=\"margin-bottom: 0px;\">Client</h3>\n",
       "        <p style=\"color: #9D9D9D; margin-bottom: 0px;\">Client-61d2e9c2-c943-11ed-9593-0000018cfe80</p>\n",
       "        <table style=\"width: 100%; text-align: left;\">\n",
       "\n",
       "        <tr>\n",
       "        \n",
       "            <td style=\"text-align: left;\"><strong>Connection method:</strong> Cluster object</td>\n",
       "            <td style=\"text-align: left;\"><strong>Cluster type:</strong> dask_jobqueue.PBSCluster</td>\n",
       "        \n",
       "        </tr>\n",
       "\n",
       "        \n",
       "            <tr>\n",
       "                <td style=\"text-align: left;\">\n",
       "                    <strong>Dashboard: </strong> <a href=\"http://10.6.21.35:8787/status\" target=\"_blank\">http://10.6.21.35:8787/status</a>\n",
       "                </td>\n",
       "                <td style=\"text-align: left;\"></td>\n",
       "            </tr>\n",
       "        \n",
       "\n",
       "        </table>\n",
       "\n",
       "        \n",
       "            <button style=\"margin-bottom: 12px;\" data-commandlinker-command=\"dask:populate-and-launch-layout\" data-commandlinker-args='{\"url\": \"http://10.6.21.35:8787/status\" }'>\n",
       "                Launch dashboard in JupyterLab\n",
       "            </button>\n",
       "        \n",
       "\n",
       "        \n",
       "            <details>\n",
       "            <summary style=\"margin-bottom: 20px;\"><h3 style=\"display: inline;\">Cluster Info</h3></summary>\n",
       "            <div class=\"jp-RenderedHTMLCommon jp-RenderedHTML jp-mod-trusted jp-OutputArea-output\">\n",
       "    <div style=\"width: 24px; height: 24px; background-color: #e1e1e1; border: 3px solid #9D9D9D; border-radius: 5px; position: absolute;\">\n",
       "    </div>\n",
       "    <div style=\"margin-left: 48px;\">\n",
       "        <h3 style=\"margin-bottom: 0px; margin-top: 0px;\">PBSCluster</h3>\n",
       "        <p style=\"color: #9D9D9D; margin-bottom: 0px;\">cba2a5b0</p>\n",
       "        <table style=\"width: 100%; text-align: left;\">\n",
       "            <tr>\n",
       "                <td style=\"text-align: left;\">\n",
       "                    <strong>Dashboard:</strong> <a href=\"http://10.6.21.35:8787/status\" target=\"_blank\">http://10.6.21.35:8787/status</a>\n",
       "                </td>\n",
       "                <td style=\"text-align: left;\">\n",
       "                    <strong>Workers:</strong> 0\n",
       "                </td>\n",
       "            </tr>\n",
       "            <tr>\n",
       "                <td style=\"text-align: left;\">\n",
       "                    <strong>Total threads:</strong> 0\n",
       "                </td>\n",
       "                <td style=\"text-align: left;\">\n",
       "                    <strong>Total memory:</strong> 0 B\n",
       "                </td>\n",
       "            </tr>\n",
       "            \n",
       "        </table>\n",
       "\n",
       "        <details>\n",
       "            <summary style=\"margin-bottom: 20px;\">\n",
       "                <h3 style=\"display: inline;\">Scheduler Info</h3>\n",
       "            </summary>\n",
       "\n",
       "            <div style=\"\">\n",
       "    <div>\n",
       "        <div style=\"width: 24px; height: 24px; background-color: #FFF7E5; border: 3px solid #FF6132; border-radius: 5px; position: absolute;\"> </div>\n",
       "        <div style=\"margin-left: 48px;\">\n",
       "            <h3 style=\"margin-bottom: 0px;\">Scheduler</h3>\n",
       "            <p style=\"color: #9D9D9D; margin-bottom: 0px;\">Scheduler-61d726f0-2b13-4a3e-96ad-5827e6bd206f</p>\n",
       "            <table style=\"width: 100%; text-align: left;\">\n",
       "                <tr>\n",
       "                    <td style=\"text-align: left;\">\n",
       "                        <strong>Comm:</strong> tcp://10.6.21.35:45881\n",
       "                    </td>\n",
       "                    <td style=\"text-align: left;\">\n",
       "                        <strong>Workers:</strong> 0\n",
       "                    </td>\n",
       "                </tr>\n",
       "                <tr>\n",
       "                    <td style=\"text-align: left;\">\n",
       "                        <strong>Dashboard:</strong> <a href=\"http://10.6.21.35:8787/status\" target=\"_blank\">http://10.6.21.35:8787/status</a>\n",
       "                    </td>\n",
       "                    <td style=\"text-align: left;\">\n",
       "                        <strong>Total threads:</strong> 0\n",
       "                    </td>\n",
       "                </tr>\n",
       "                <tr>\n",
       "                    <td style=\"text-align: left;\">\n",
       "                        <strong>Started:</strong> Just now\n",
       "                    </td>\n",
       "                    <td style=\"text-align: left;\">\n",
       "                        <strong>Total memory:</strong> 0 B\n",
       "                    </td>\n",
       "                </tr>\n",
       "            </table>\n",
       "        </div>\n",
       "    </div>\n",
       "\n",
       "    <details style=\"margin-left: 48px;\">\n",
       "        <summary style=\"margin-bottom: 20px;\">\n",
       "            <h3 style=\"display: inline;\">Workers</h3>\n",
       "        </summary>\n",
       "\n",
       "        \n",
       "\n",
       "    </details>\n",
       "</div>\n",
       "\n",
       "        </details>\n",
       "    </div>\n",
       "</div>\n",
       "            </details>\n",
       "        \n",
       "\n",
       "    </div>\n",
       "</div>"
      ],
      "text/plain": [
       "<Client: 'tcp://10.6.21.35:45881' processes=0 threads=0, memory=0 B>"
      ]
     },
     "execution_count": 4,
     "metadata": {},
     "output_type": "execute_result"
    }
   ],
   "source": [
    "client"
   ]
  },
  {
   "cell_type": "code",
   "execution_count": 5,
   "id": "1c00b430",
   "metadata": {},
   "outputs": [],
   "source": [
    "import xarray as xr\n",
    "import os\n",
    "import numpy as np"
   ]
  },
  {
   "cell_type": "code",
   "execution_count": 6,
   "id": "e3324a04-915d-40c2-9338-7f7e1a58ee38",
   "metadata": {},
   "outputs": [],
   "source": [
    "years = range(2021, 2022)\n",
    "levels = [150, 850]"
   ]
  },
  {
   "cell_type": "markdown",
   "id": "7799711c",
   "metadata": {
    "tags": []
   },
   "source": [
    "# Daily u and v data - use standard dask and xarray tools\n",
    "\n",
    "- To process hourly data to daily, for two isobaric levels, takes around 4 hours (using 3 full nodes; ~576 GB)"
   ]
  },
  {
   "cell_type": "code",
   "execution_count": 2,
   "id": "ccbc614c",
   "metadata": {},
   "outputs": [],
   "source": [
    "def get_files(file_path, var, years):\n",
    "    \"\"\"\n",
    "    Get list of files\n",
    "    \"\"\"\n",
    "    fp_list = []\n",
    "    for year in years:\n",
    "        fp_dir = file_path+var+'/'+str(year)+'/'\n",
    "        for fp in sorted(os.listdir(fp_dir)):\n",
    "            fp_list.append(fp_dir+fp)\n",
    "    return fp_list"
   ]
  },
  {
   "cell_type": "code",
   "execution_count": 3,
   "id": "9abfc787-9f32-4ed0-919b-a069bc8bd9a8",
   "metadata": {},
   "outputs": [],
   "source": [
    "load = True"
   ]
  },
  {
   "cell_type": "code",
   "execution_count": 7,
   "id": "aa3945e4",
   "metadata": {},
   "outputs": [
    {
     "name": "stdout",
     "output_type": "stream",
     "text": [
      "CPU times: user 351 ms, sys: 109 ms, total: 460 ms\n",
      "Wall time: 729 ms\n"
     ]
    }
   ],
   "source": [
    "%%time\n",
    "if load:\n",
    "    u = xr.open_zarr('/g/data/w42/dr6273/work/data/era5/u/u_era5_daily_'+str(years[0])+'-'+str(years[-1])+'.zarr', consolidated=True)\n",
    "    v = xr.open_zarr('/g/data/w42/dr6273/work/data/era5/v/v_era5_daily_'+str(years[0])+'-'+str(years[-1])+'.zarr', consolidated=True)\n",
    "else:\n",
    "    u_files = get_files('/g/data/rt52/era5/pressure-levels/reanalysis/', 'u', years)\n",
    "    v_files = get_files('/g/data/rt52/era5/pressure-levels/reanalysis/', 'v', years)\n",
    "    \n",
    "    # Using preprocess in open_mfdataset to select desired levels improves performance\n",
    "    #  versus doing a .sel() afterwards\n",
    "    def preprocess(ds):\n",
    "        return ds.sel(level=levels)\n",
    "    \n",
    "    u = xr.open_mfdataset(u_files,\n",
    "                          chunks={'time': 24, 'level': 1},\n",
    "                          preprocess=preprocess,\n",
    "                          compat='override',\n",
    "                          coords='minimal',\n",
    "                          engine='netcdf4')\n",
    "\n",
    "    v = xr.open_mfdataset(v_files,\n",
    "                          chunks={'time': 24, 'level': 1},\n",
    "                          compat='override',\n",
    "                          preprocess=preprocess,\n",
    "                          coords='minimal',\n",
    "                          engine='netcdf4')\n",
    "    \n",
    "    u = u.resample(time='1D').mean()\n",
    "    v = v.resample(time='1D').mean()\n",
    "    \n",
    "    u_encoding = {'u': {'dtype': 'float32'}}\n",
    "    v_encoding = {'v': {'dtype': 'float32'}}\n",
    "    \n",
    "    u.to_zarr('/g/data/w42/dr6273/work/data/era5/u/u_era5_daily_'+str(years[0])+'-'+str(years[-1])+'.zarr',\n",
    "              mode='w',\n",
    "              consolidated=True,\n",
    "              encoding=u_encoding)\n",
    "\n",
    "    v.to_zarr('/g/data/w42/dr6273/work/data/era5/v/v_era5_daily_'+str(years[0])+'-'+str(years[-1])+'.zarr',\n",
    "                mode='w',\n",
    "                consolidated=True,\n",
    "                encoding=v_encoding)\n",
    "    \n",
    "    # Close cluster\n",
    "    client.close()\n",
    "    cluster.close()"
   ]
  },
  {
   "cell_type": "markdown",
   "id": "a80d897f-1c1a-43af-b4fc-0d96f3986741",
   "metadata": {},
   "source": [
    "# Calculate velocity potential using `windspharm`\n",
    "\n",
    "- Non-lazy, so we do this separately for each year and isobaric level\n",
    "- Used 10 cores at 40GB"
   ]
  },
  {
   "cell_type": "code",
   "execution_count": 6,
   "id": "1dda5c0f-0732-4411-a7aa-8a7cb8d2f37a",
   "metadata": {},
   "outputs": [],
   "source": [
    "from windspharm.standard import VectorWind\n",
    "from windspharm.tools import prep_data, recover_data, order_latdim"
   ]
  },
  {
   "cell_type": "markdown",
   "id": "59faa20a-a284-4f62-a209-cb76012480c1",
   "metadata": {},
   "source": [
    "### For each level and year\n",
    "\n",
    "~ Takes around 3 minutes per level and year\n",
    "~ 2 levels, 42 years takes around 4.5 hours"
   ]
  },
  {
   "cell_type": "code",
   "execution_count": 11,
   "id": "72997196-63f7-477c-b160-6708206136c0",
   "metadata": {},
   "outputs": [],
   "source": [
    "def write_vpot(u, v, level, year):\n",
    "    \n",
    "    lons = u.longitude.values\n",
    "    lats = u.latitude.values\n",
    "    year = str(year)\n",
    "\n",
    "    # Subsample u and v\n",
    "    u_ = u.u.sel(time=year, level=level)\n",
    "    v_ = v.v.sel(time=year, level=level)\n",
    "\n",
    "    # Transpose to ensure time is out front\n",
    "    u_ = u_.transpose('time', 'latitude', 'longitude')\n",
    "    v_ = v_.transpose('time', 'latitude', 'longitude')\n",
    "\n",
    "    # Load values\n",
    "    uwnd = u_.values\n",
    "    vwnd = v_.values\n",
    "\n",
    "    # Ensure data is in correct shape for windspharm\n",
    "    print('Prepping data for windspharm...')\n",
    "    uwnd, uwnd_info = prep_data(uwnd, 'tyx') # 'tyx' because data is in format time, lat, lon\n",
    "    vwnd, vwnd_info = prep_data(vwnd, 'tyx')\n",
    "    lats, uwnd, vwnd = order_latdim(lats, uwnd, vwnd)\n",
    "\n",
    "    # Create a VectorWind instance to handle computation of streamfunction and velocity potential\n",
    "    print('Creating VectorWind instance...')\n",
    "    w = VectorWind(uwnd, vwnd)\n",
    "\n",
    "    # Calculate velocity potential\n",
    "    print('Calculating VPOT...')\n",
    "    _, vp = w.sfvp()\n",
    "\n",
    "    # Re-shape to original format\n",
    "    print('Reshaping...')\n",
    "    vp = recover_data(vp, uwnd_info)\n",
    "\n",
    "    # Put into DataArray and format for writing\n",
    "    print('Putting into dataArray and writing...')\n",
    "    vp = xr.DataArray(vp,\n",
    "                     dims=['time', 'latitude', 'longitude'],\n",
    "                     coords={'time': u_['time'].values,\n",
    "                             'latitude': u_['latitude'].values,\n",
    "                             'longitude': u_['longitude'].values})\n",
    "    vp = vp.assign_attrs({'short_name': 'vpot',\n",
    "                          'long name': 'velocity potential',\n",
    "                          'units': 'm^2 / s^-1'})\n",
    "    \n",
    "    # Specify lat/lon units and transpose to time first so we can use cdo later\n",
    "    vp['latitude'].attrs = {'units': 'degrees_north'}\n",
    "    vp['longitude'].attrs = {'units': 'degrees_east'}\n",
    "    vp = vp.expand_dims({'level': [level]})\n",
    "    vp = vp.transpose('time', 'level', 'latitude', 'longitude')\n",
    "    \n",
    "    vp = vp.to_dataset(name='vpot')\n",
    "    \n",
    "    vp_encoding = {'vpot': {'dtype': 'float32'}}\n",
    "\n",
    "    vp.to_netcdf('/g/data/w42/dr6273/work/data/era5/vpot/nc/vpot_'+str(level)+'_era5_daily_'+str(year)+'.nc',\n",
    "                mode='w',\n",
    "                encoding=vp_encoding)\n",
    "    print()"
   ]
  },
  {
   "cell_type": "code",
   "execution_count": 12,
   "id": "668f3a5e-882f-475f-8f50-8036633020f7",
   "metadata": {},
   "outputs": [
    {
     "name": "stdout",
     "output_type": "stream",
     "text": [
      "150\n",
      "2021\n",
      "Prepping data for windspharm...\n",
      "Creating VectorWind instance...\n",
      "Calculating VPOT...\n",
      "Reshaping...\n",
      "Putting into dataArray and writing...\n",
      "\n",
      "850\n",
      "2021\n",
      "Prepping data for windspharm...\n",
      "Creating VectorWind instance...\n",
      "Calculating VPOT...\n",
      "Reshaping...\n",
      "Putting into dataArray and writing...\n",
      "\n",
      "CPU times: user 6min 21s, sys: 26.8 s, total: 6min 48s\n",
      "Wall time: 6min 39s\n"
     ]
    }
   ],
   "source": [
    "%%time\n",
    "for level in levels:\n",
    "    print(level)\n",
    "    for year in years:\n",
    "        print(year)\n",
    "        write_vpot(u, v, level, year)"
   ]
  },
  {
   "cell_type": "markdown",
   "id": "01f751e1-b3d7-444d-a1d0-ec892ea19e84",
   "metadata": {},
   "source": [
    "# Regrid VPOT to 2x2\n",
    "\n",
    "- We ended up using CDO from the command line. Trying to implement it from within the notebook didn't work.\n",
    "- Previously tried using xesmf but that blew up and killed workers."
   ]
  },
  {
   "cell_type": "code",
   "execution_count": null,
   "id": "b74c102a-a80b-482f-ab04-cda40740f1f0",
   "metadata": {},
   "outputs": [],
   "source": [
    "# # Create a text file called 2x2_grid.txt:\n",
    "\n",
    "# gridtype = lonlat\n",
    "# xsize    = 180\n",
    "# ysize    = 91\n",
    "# xfirst   = -180\n",
    "# xinc     = 2\n",
    "# yfirst   = -90\n",
    "# yinc     = 2"
   ]
  },
  {
   "cell_type": "code",
   "execution_count": 83,
   "id": "1a6d4dfd-9a83-4635-b336-ceb60b69a7c6",
   "metadata": {},
   "outputs": [],
   "source": [
    "# Then run the following commands, replacing infile with desired vpot array on ERA5 native grid\n",
    "# !module load cdo\n",
    "# !cdo remapbil,2x2_grid.txt infile.nc outfile.nc"
   ]
  }
 ],
 "metadata": {
  "kernelspec": {
   "display_name": "Python (pangeo_windspharm)",
   "language": "python",
   "name": "pangeo_windspharm"
  },
  "language_info": {
   "codemirror_mode": {
    "name": "ipython",
    "version": 3
   },
   "file_extension": ".py",
   "mimetype": "text/x-python",
   "name": "python",
   "nbconvert_exporter": "python",
   "pygments_lexer": "ipython3",
   "version": "3.10.8"
  }
 },
 "nbformat": 4,
 "nbformat_minor": 5
}
